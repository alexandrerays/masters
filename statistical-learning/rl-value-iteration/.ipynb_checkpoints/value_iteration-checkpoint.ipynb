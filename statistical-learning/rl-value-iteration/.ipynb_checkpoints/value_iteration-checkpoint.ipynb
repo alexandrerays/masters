{
 "cells": [
  {
   "cell_type": "code",
   "execution_count": 1,
   "metadata": {},
   "outputs": [],
   "source": [
    "import numpy as np\n",
    "import pandas as pd"
   ]
  },
  {
   "cell_type": "markdown",
   "metadata": {},
   "source": [
    "### Ex 2)"
   ]
  },
  {
   "cell_type": "code",
   "execution_count": 3,
   "metadata": {},
   "outputs": [],
   "source": [
    "def reward_s1(v1, v2):\n",
    "    red = 3 + 0.5 * (0.5 * v1 + 0.5 * v2)\n",
    "    green = 3 + 0.5 * (0 * v1 + 1 * v2)\n",
    "    return max(red, green)"
   ]
  },
  {
   "cell_type": "code",
   "execution_count": 4,
   "metadata": {},
   "outputs": [],
   "source": [
    "def reward_s2(v1, v2):\n",
    "    red = -1 + 0.5 * (1 * v2 + 0 * v1)\n",
    "    green = -1 + 0.5 * (0 * v2 + 1 * v1)\n",
    "    return max(red, green)"
   ]
  },
  {
   "cell_type": "code",
   "execution_count": 6,
   "metadata": {},
   "outputs": [
    {
     "name": "stdout",
     "output_type": "stream",
     "text": [
      "iteration 1: v1: 0, v2: 0\n",
      "iteration 2: v1: 3.0, v2: -1.0\n",
      "iteration 3: v1: 3.5, v2: 0.5\n",
      "iteration 4: v1: 4.0, v2: 0.75\n",
      "iteration 5: v1: 4.19, v2: 1.0\n",
      "iteration 6: v1: 4.3, v2: 1.09\n",
      "iteration 7: v1: 4.35, v2: 1.15\n",
      "iteration 8: v1: 4.37, v2: 1.17\n",
      "iteration 9: v1: 4.39, v2: 1.19\n",
      "iteration 10: v1: 4.39, v2: 1.19\n",
      "iteration 11: v1: 4.4, v2: 1.2\n",
      "iteration 12: v1: 4.4, v2: 1.2\n",
      "iteration 13: v1: 4.4, v2: 1.2\n",
      "iteration 14: v1: 4.4, v2: 1.2\n",
      "4.399796545505524\n",
      "1.1997965574264526\n"
     ]
    }
   ],
   "source": [
    "i = 1\n",
    "v1 = 0\n",
    "v2 = 0\n",
    "while i < 15:\n",
    "    print(f'iteration {i}: v1: {round(v1, 2)}, v2: {round(v2, 2)}')\n",
    "    new_v1 = reward_s1(v1, v2)\n",
    "    new_v2 = reward_s2(v1, v2)\n",
    "    v1 = new_v1\n",
    "    v2 = new_v2\n",
    "    i += 1\n",
    "    \n",
    "print(v1)\n",
    "print(v2)"
   ]
  },
  {
   "cell_type": "markdown",
   "metadata": {},
   "source": [
    "### Ex 3)"
   ]
  },
  {
   "cell_type": "code",
   "execution_count": 7,
   "metadata": {},
   "outputs": [
    {
     "data": {
      "text/plain": [
       "array([[   0,    0,    0,  100],\n",
       "       [   0,  999,    0, -100],\n",
       "       [   0,    0,    0,    0]])"
      ]
     },
     "execution_count": 7,
     "metadata": {},
     "output_type": "execute_result"
    }
   ],
   "source": [
    "m = np.array([[0, 0, 0, 100], [0, 999, 0, -100], [0, 0, 0, 0]])\n",
    "m"
   ]
  }
 ],
 "metadata": {
  "kernelspec": {
   "display_name": "Python 3",
   "language": "python",
   "name": "python3"
  },
  "language_info": {
   "codemirror_mode": {
    "name": "ipython",
    "version": 3
   },
   "file_extension": ".py",
   "mimetype": "text/x-python",
   "name": "python",
   "nbconvert_exporter": "python",
   "pygments_lexer": "ipython3",
   "version": "3.6.6"
  }
 },
 "nbformat": 4,
 "nbformat_minor": 2
}
