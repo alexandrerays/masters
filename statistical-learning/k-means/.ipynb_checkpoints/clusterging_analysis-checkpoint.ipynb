{
 "cells": [
  {
   "cell_type": "markdown",
   "metadata": {},
   "source": [
    "* Author: Alexandre Ray\n",
    "* Date: 27/04/2019"
   ]
  },
  {
   "cell_type": "markdown",
   "metadata": {},
   "source": [
    "#### Libs"
   ]
  },
  {
   "cell_type": "code",
   "execution_count": 1,
   "metadata": {},
   "outputs": [],
   "source": [
    "import pandas as pd\n",
    "import numpy as np"
   ]
  },
  {
   "cell_type": "markdown",
   "metadata": {},
   "source": [
    "## 1.1 Implement K-means manually"
   ]
  },
  {
   "cell_type": "markdown",
   "metadata": {},
   "source": [
    "#### Create data points"
   ]
  },
  {
   "cell_type": "code",
   "execution_count": 2,
   "metadata": {},
   "outputs": [
    {
     "data": {
      "text/plain": [
       "array([[5.9, 3.2],\n",
       "       [4.6, 2.9],\n",
       "       [6.2, 2.8],\n",
       "       [4.7, 3.2],\n",
       "       [5.5, 4.2],\n",
       "       [5. , 3. ],\n",
       "       [4.9, 3.1],\n",
       "       [6.7, 3.1],\n",
       "       [5.1, 3.8],\n",
       "       [6. , 3. ]])"
      ]
     },
     "execution_count": 2,
     "metadata": {},
     "output_type": "execute_result"
    }
   ],
   "source": [
    "X = np.array([[5.9, 3.2], \n",
    "              [4.6, 2.9], \n",
    "              [6.2, 2.8],\n",
    "              [4.7, 3.2],\n",
    "              [5.5, 4.2],\n",
    "              [5.0, 3.0],\n",
    "              [4.9, 3.1],\n",
    "              [6.7, 3.1],\n",
    "              [5.1, 3.8],\n",
    "              [6.0, 3.0]])\n",
    "X"
   ]
  },
  {
   "cell_type": "code",
   "execution_count": 3,
   "metadata": {},
   "outputs": [
    {
     "data": {
      "text/plain": [
       "(10, 2)"
      ]
     },
     "execution_count": 3,
     "metadata": {},
     "output_type": "execute_result"
    }
   ],
   "source": [
    "X.shape"
   ]
  },
  {
   "cell_type": "markdown",
   "metadata": {},
   "source": [
    "#### Create initial clusters"
   ]
  },
  {
   "cell_type": "code",
   "execution_count": 4,
   "metadata": {},
   "outputs": [],
   "source": [
    "c1 = np.array([6.2, 3.2]) # red\n",
    "c2 = np.array([6.6, 3.7]) # green\n",
    "c3 = np.array([6.5, 3.0]) # blue"
   ]
  },
  {
   "cell_type": "markdown",
   "metadata": {},
   "source": [
    "#### Calculate euclidian distance"
   ]
  },
  {
   "cell_type": "code",
   "execution_count": 5,
   "metadata": {},
   "outputs": [],
   "source": [
    "def _calculate_euclidean_distance(point, centroid):\n",
    "    return np.sqrt((point[0] - centroid[0])**2 + (point[1] - centroid[1])**2)"
   ]
  },
  {
   "cell_type": "code",
   "execution_count": 6,
   "metadata": {},
   "outputs": [
    {
     "data": {
      "text/plain": [
       "0.2999999999999998"
      ]
     },
     "execution_count": 6,
     "metadata": {},
     "output_type": "execute_result"
    }
   ],
   "source": [
    "_calculate_euclidean_distance(X[0], c1) # distance from point X[0] to centroid c1"
   ]
  },
  {
   "cell_type": "code",
   "execution_count": 7,
   "metadata": {},
   "outputs": [],
   "source": [
    "def _get_nearest_data_points(X, c1, c2, c3):\n",
    "    centroid1 = []\n",
    "    centroid2 = []\n",
    "    centroid3 = []\n",
    "    dist = {}\n",
    "\n",
    "    for i in X: # for all data points\n",
    "\n",
    "        # calculate the distance of all centroids\n",
    "        dist['centroid1'] = _calculate_euclidean_distance(i, c1)\n",
    "        dist['centroid2'] = _calculate_euclidean_distance(i, c2)\n",
    "        dist['centroid3'] = _calculate_euclidean_distance(i, c3)\n",
    "\n",
    "        # return the nearest centroid for data point i\n",
    "        nearest_centroid = min(dist, key=dist.get)\n",
    "\n",
    "        # save data point i in the list of the nearest centroid\n",
    "        eval(nearest_centroid).append(i)\n",
    "    \n",
    "    return centroid1, centroid2, centroid3"
   ]
  },
  {
   "cell_type": "code",
   "execution_count": 8,
   "metadata": {},
   "outputs": [],
   "source": [
    "def _calculate_new_centroid(centroid):\n",
    "    x_sum = 0\n",
    "    y_sum = 0\n",
    "\n",
    "    for i in centroid:\n",
    "        x_sum += i[0]\n",
    "        y_sum += i[1]\n",
    "\n",
    "    new_centroid_x = (x_sum / len(centroid))\n",
    "    new_centroid_y = (y_sum / len(centroid))\n",
    "    \n",
    "    return np.array([new_centroid_x, new_centroid_y])"
   ]
  },
  {
   "cell_type": "code",
   "execution_count": 9,
   "metadata": {},
   "outputs": [],
   "source": [
    "def _calculate_new_centroids(c1, c2, c3):\n",
    "    new_c1 = _calculate_new_centroid(c1)\n",
    "    new_c2 = _calculate_new_centroid(c2)\n",
    "    new_c3 = _calculate_new_centroid(c3)\n",
    "    \n",
    "    return new_c1, new_c2, new_c3"
   ]
  },
  {
   "cell_type": "code",
   "execution_count": 10,
   "metadata": {},
   "outputs": [],
   "source": [
    "centroid1, centroid2, centroid3 = _get_nearest_data_points(X, c1, c2, c3)"
   ]
  },
  {
   "cell_type": "markdown",
   "metadata": {},
   "source": [
    "#### New centroids after one iteration"
   ]
  },
  {
   "cell_type": "code",
   "execution_count": 11,
   "metadata": {},
   "outputs": [
    {
     "data": {
      "text/plain": [
       "array([5.17142857, 3.17142857])"
      ]
     },
     "execution_count": 11,
     "metadata": {},
     "output_type": "execute_result"
    }
   ],
   "source": [
    "_calculate_new_centroid(centroid1) # red"
   ]
  },
  {
   "cell_type": "code",
   "execution_count": 12,
   "metadata": {},
   "outputs": [
    {
     "data": {
      "text/plain": [
       "array([5.5, 4.2])"
      ]
     },
     "execution_count": 12,
     "metadata": {},
     "output_type": "execute_result"
    }
   ],
   "source": [
    "_calculate_new_centroid(centroid2) # green"
   ]
  },
  {
   "cell_type": "code",
   "execution_count": 13,
   "metadata": {},
   "outputs": [
    {
     "data": {
      "text/plain": [
       "array([6.45, 2.95])"
      ]
     },
     "execution_count": 13,
     "metadata": {},
     "output_type": "execute_result"
    }
   ],
   "source": [
    "_calculate_new_centroid(centroid3) # blue"
   ]
  },
  {
   "cell_type": "markdown",
   "metadata": {},
   "source": [
    "#### How many iterations are required for the clusters to converge?"
   ]
  },
  {
   "cell_type": "code",
   "execution_count": 14,
   "metadata": {},
   "outputs": [
    {
     "name": "stdout",
     "output_type": "stream",
     "text": [
      "Iteration 1\n",
      "Iteration 2\n",
      "Iteration 3\n",
      "Converged in:\n",
      "[4.8  3.05]\n",
      "[5.3 4. ]\n",
      "[6.2   3.025]\n"
     ]
    }
   ],
   "source": [
    "# Complete K-Means Algorithm\n",
    "\n",
    "c1 = np.array([6.2, 3.2]) # red\n",
    "c2 = np.array([6.6, 3.7]) # green\n",
    "c3 = np.array([6.5, 3.0]) # blue\n",
    "\n",
    "iteration = 1\n",
    "\n",
    "while True:\n",
    "    print(f'Iteration {iteration}')\n",
    "    points_near_c1, points_near_c2, points_near_c3 = _get_nearest_data_points(X, c1, c2, c3)\n",
    "    new_c1, new_c2, new_c3 = _calculate_new_centroids(points_near_c1, points_near_c2, points_near_c3)\n",
    "    if (np.array_equal(new_c1, c1) & np.array_equal(new_c2, c2) & np.array_equal(new_c3, c3)):\n",
    "        print('Converged in:')\n",
    "        print(new_c1) # red\n",
    "        print(new_c2) # green\n",
    "        print(new_c3) # blue\n",
    "        break\n",
    "    else:\n",
    "        iteration += 1\n",
    "        c1 = new_c1\n",
    "        c2 = new_c2\n",
    "        c3 = new_c3"
   ]
  },
  {
   "cell_type": "markdown",
   "metadata": {},
   "source": [
    "#### Conclusion"
   ]
  },
  {
   "cell_type": "markdown",
   "metadata": {},
   "source": [
    "- It tooks 3 iterations to converge \n",
    "- Centroids of convergence:\n",
    "    - [4.8  3.05] (red)\n",
    "    - [5.3 4. ] (green)\n",
    "    - [6.2   3.025] (blue)"
   ]
  },
  {
   "cell_type": "markdown",
   "metadata": {},
   "source": [
    "## 1.2 Applications of K-means"
   ]
  },
  {
   "cell_type": "markdown",
   "metadata": {},
   "source": [
    "1. Dataset A: A2 (K-means seems **worse**)\n",
    "2. Dataset B: B2 (K-means seems **worse**)\n",
    "3. Dataset C: C1 (K-means seems **better**)\n",
    "4. Dataset D: D1 (K-means seems **worse**)\n",
    "5. Dataset E: E2 (K-means seems **better**)\n",
    "6. Dataset F: F2 (K-means seems **worse**)"
   ]
  },
  {
   "cell_type": "markdown",
   "metadata": {},
   "source": [
    "## 1.3 Hierarchical Clustering"
   ]
  },
  {
   "cell_type": "code",
   "execution_count": 15,
   "metadata": {},
   "outputs": [
    {
     "data": {
      "text/plain": [
       "2.109502310972899"
      ]
     },
     "execution_count": 15,
     "metadata": {},
     "output_type": "execute_result"
    }
   ],
   "source": [
    "# distance between the farthest members (complete link)\n",
    "\n",
    "a_red_farthest = np.array([4.6, 2.9])\n",
    "b_blue_farthest = np.array([6.7, 3.1])\n",
    "\n",
    "dist_a_and_b_farthest = _calculate_euclidean_distance(a_red_farthest, b_blue_farthest)\n",
    "dist_a_and_b_farthest"
   ]
  },
  {
   "cell_type": "code",
   "execution_count": 18,
   "metadata": {},
   "outputs": [
    {
     "data": {
      "text/plain": [
       "0.9219544457292891"
      ]
     },
     "execution_count": 18,
     "metadata": {},
     "output_type": "execute_result"
    }
   ],
   "source": [
    "# distance between the closest members (single link)\n",
    "\n",
    "a_red_closest = np.array([5.0, 3.0])\n",
    "b_blue_closest = np.array([5.9, 3.2])\n",
    "\n",
    "dist_a_and_b_closest = _calculate_euclidean_distance(a_red_closest, b_blue_closest)\n",
    "dist_a_and_b_closest"
   ]
  },
  {
   "cell_type": "code",
   "execution_count": 17,
   "metadata": {},
   "outputs": [
    {
     "data": {
      "text/plain": [
       "1.4002231964940441"
      ]
     },
     "execution_count": 17,
     "metadata": {},
     "output_type": "execute_result"
    }
   ],
   "source": [
    "# average distance between all pairs\n",
    "\n",
    "X_red = np.array([[4.6, 2.9], \n",
    "                  [5.0, 3.0], \n",
    "                  [4.9, 3.1],\n",
    "                  [4.7, 3.2]])\n",
    "\n",
    "X_blue = np.array([[6.2, 2.8], \n",
    "                   [6.0, 3.0], \n",
    "                   [6.7, 3.1],\n",
    "                   [5.9, 3.2]])\n",
    "\n",
    "X_red_avg = _calculate_new_centroid(X_red)\n",
    "X_blue_avg = _calculate_new_centroid(X_blue)\n",
    "dist_a_and_b_avg = _calculate_euclidean_distance(X_red_avg, X_blue_avg)\n",
    "dist_a_and_b_avg"
   ]
  },
  {
   "cell_type": "markdown",
   "metadata": {},
   "source": [
    "The average distance looks more robust to noise. Since a cluster may have sparse density of data points."
   ]
  }
 ],
 "metadata": {
  "kernelspec": {
   "display_name": "Python 3",
   "language": "python",
   "name": "python3"
  },
  "language_info": {
   "codemirror_mode": {
    "name": "ipython",
    "version": 3
   },
   "file_extension": ".py",
   "mimetype": "text/x-python",
   "name": "python",
   "nbconvert_exporter": "python",
   "pygments_lexer": "ipython3",
   "version": "3.6.6"
  }
 },
 "nbformat": 4,
 "nbformat_minor": 2
}
